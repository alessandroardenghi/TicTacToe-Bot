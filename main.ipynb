{
 "cells": [
  {
   "cell_type": "markdown",
   "metadata": {},
   "source": [
    "# TIC-TAC-TOE Bot"
   ]
  },
  {
   "cell_type": "markdown",
   "metadata": {},
   "source": [
    "In this project, we will develop a bot that plays Tic-Tac-Toe as best as possible. "
   ]
  },
  {
   "cell_type": "markdown",
   "metadata": {},
   "source": [
    "## Tic-Tac-Toe Class"
   ]
  },
  {
   "cell_type": "markdown",
   "metadata": {},
   "source": [
    "In this section, we show some of the characteristics of the Tic-Tac-Toe class present in the __ticatactoe\\_class.py__ file in this directory. The key observation is that to maximise efficiency, we represent each tic-tac-toe grid of size nxn as a tuple made of two $n^2$ bit numbers in binary (one for player 0 and one for player 1) so that it is easy to verify whether a configuration is winning and it is easy to update the grid after each play."
   ]
  },
  {
   "cell_type": "code",
   "execution_count": 35,
   "metadata": {},
   "outputs": [
    {
     "name": "stdout",
     "output_type": "stream",
     "text": [
      "Grid Representation: [0, 0]\n",
      "   |   |   \n",
      "---+---+---\n",
      "   |   |   \n",
      "---+---+---\n",
      "   |   |   \n"
     ]
    }
   ],
   "source": [
    "from tictactoe_class import TicTacToe\n",
    "from utils import *\n",
    "game = TicTacToe(3)\n",
    "print(f'Grid Representation: {game.grid}')\n",
    "game._display_board()"
   ]
  },
  {
   "cell_type": "markdown",
   "metadata": {},
   "source": [
    "We can see that we store at the initialization the winning configurations. For instance the number 7 is 000000111 in binary, which corresponds to a grid that has the first row full."
   ]
  },
  {
   "cell_type": "code",
   "execution_count": 36,
   "metadata": {},
   "outputs": [
    {
     "name": "stdout",
     "output_type": "stream",
     "text": [
      "[7, 56, 448, 73, 146, 292, 273, 84]\n"
     ]
    }
   ],
   "source": [
    "print(game.winning_configurations)"
   ]
  },
  {
   "cell_type": "markdown",
   "metadata": {},
   "source": [
    "Our TicTacToe class also includes methods to set up a game between two players and visualize it in the terminal."
   ]
  },
  {
   "cell_type": "markdown",
   "metadata": {},
   "source": [
    "## Optimized Exhaustive Search BOT "
   ]
  },
  {
   "cell_type": "markdown",
   "metadata": {},
   "source": [
    "In our first approach, we try to develop a BOT that before playing conducts and exhaustive search. We know that there are 9! possible game sequences that can happen with 3x3 grids, and we also know that this number grows exponentially with the size of the board. Therefore, we also put in place some optimisations. <br> \n",
    "For instance, some game sequences intersect or share common states, so we cache the scores for each state to avoid computing them more than once. <br>\n",
    "The Bot's code is in __esbot\\_class.py__."
   ]
  },
  {
   "cell_type": "code",
   "execution_count": 33,
   "metadata": {},
   "outputs": [],
   "source": [
    "from esbot_class import ESBot\n",
    "grid_size = 3\n",
    "exhaustive_search_bot = ESBot(size = grid_size, winning_configurations=create_win_grids(grid_size))"
   ]
  },
  {
   "cell_type": "markdown",
   "metadata": {},
   "source": [
    "As soon as the bot is initialized, it computes the optimal strategy to play as player 0 and player 1."
   ]
  },
  {
   "cell_type": "code",
   "execution_count": 34,
   "metadata": {},
   "outputs": [
    {
     "data": {
      "text/plain": [
       "{(1, 0): (4, 0),\n",
       " (2, 0): (0, 0),\n",
       " (4, 0): (4, 0),\n",
       " (8, 0): (0, 0),\n",
       " (16, 0): (0, 0),\n",
       " (32, 0): (2, 0),\n",
       " (64, 0): (4, 0),\n",
       " (128, 0): (1, 0),\n",
       " (256, 0): (4, 0)}"
      ]
     },
     "execution_count": 34,
     "metadata": {},
     "output_type": "execute_result"
    }
   ],
   "source": [
    "exhaustive_search_bot.strategy[1]"
   ]
  },
  {
   "cell_type": "markdown",
   "metadata": {},
   "source": [
    "The strategy is a dictionary that has as keys the number of moves played in the game (so a number in [0, ${size}^2$ - 1]), and has as items dictionaries. <br>\n",
    "Each subdictionary has as keys the boards configurations in tuple form (for instance, the configuration (2, 0) means that player 0 has occupied the spot at row 0, column 1, whereas player 1 has not played yet) and as items a tuple containing as first item the next optimal move, and as second item the minimum score the player will get by playing that move. <br>\n",
    "For example, the entries of the strategy with key = 1 are listed above, and are all the possible states in which the board can be found after one move has been played. <br>\n",
    "Consider the entry (128, 0): (1, 0). This indicates that if the player has to play when the board is in state (128, 0) ( meaning that player0 has played a single move at row 2, column 1 and player 1 has not played yet), then the optimal play is to play move 1 (i.e. putting the mark in row 0, column 1) and the player can expect to at least draw the game if it plays optimally from there.\n"
   ]
  },
  {
   "cell_type": "code",
   "execution_count": 30,
   "metadata": {},
   "outputs": [
    {
     "data": {
      "text/plain": [
       "{(0, 0): (0, 0)}"
      ]
     },
     "execution_count": 30,
     "metadata": {},
     "output_type": "execute_result"
    }
   ],
   "source": [
    "exhaustive_search_bot.strategy[0]"
   ]
  },
  {
   "cell_type": "markdown",
   "metadata": {},
   "source": [
    "We see that the optimal play in a 3x3 TicTacToe grid is to start by putting a mark in the spot at row 0 column 0. We also notice that in that case the player can expect at least a draw if it plays optimally. We also saw from above that whatever the first move is, the second player can expect to at least draw the game if he plays optimally. <br>\n",
    "Therefore, we expect these bot to never lose a game. <br>\n",
    "In the next sections, we will benchmark it against a random player and against a player that performs MonteCarlo Tree Search."
   ]
  },
  {
   "cell_type": "markdown",
   "metadata": {},
   "source": [
    "### Game between Alessandro and the Bot"
   ]
  },
  {
   "cell_type": "code",
   "execution_count": 37,
   "metadata": {},
   "outputs": [
    {
     "name": "stdout",
     "output_type": "stream",
     "text": [
      "\n",
      "Player 1: Alessandro will play as X\n",
      "\n",
      "Player 2: ESBot will play as O\n",
      "\n",
      "Current Board:\n",
      "   |   |   \n",
      "---+---+---\n",
      "   |   |   \n",
      "---+---+---\n",
      "   |   |   \n",
      "\n",
      "Current Board:\n",
      " X |   |   \n",
      "---+---+---\n",
      "   |   |   \n",
      "---+---+---\n",
      "   |   |   \n",
      "\n",
      "Current Board:\n",
      " X |   |   \n",
      "---+---+---\n",
      "   | O |   \n",
      "---+---+---\n",
      "   |   |   \n",
      "\n",
      "Current Board:\n",
      " X |   | X \n",
      "---+---+---\n",
      "   | O |   \n",
      "---+---+---\n",
      "   |   |   \n",
      "\n",
      "Current Board:\n",
      " X | O | X \n",
      "---+---+---\n",
      "   | O |   \n",
      "---+---+---\n",
      "   |   |   \n",
      "\n",
      "Current Board:\n",
      " X | O | X \n",
      "---+---+---\n",
      "   | O |   \n",
      "---+---+---\n",
      "   | X |   \n",
      "\n",
      "Current Board:\n",
      " X | O | X \n",
      "---+---+---\n",
      " O | O |   \n",
      "---+---+---\n",
      "   | X |   \n",
      "\n",
      "Current Board:\n",
      " X | O | X \n",
      "---+---+---\n",
      " O | O | X \n",
      "---+---+---\n",
      "   | X |   \n",
      "\n",
      "Current Board:\n",
      " X | O | X \n",
      "---+---+---\n",
      " O | O | X \n",
      "---+---+---\n",
      "   | X | O \n",
      "\n",
      "Player 1: Alessandro will play as X\n",
      "Player 2: ESBot will play as O\n",
      "\n",
      "Final Board:\n",
      " X | O | X \n",
      "---+---+---\n",
      " O | O | X \n",
      "---+---+---\n",
      " X | X | O \n",
      "It's a draw! 🤝\n"
     ]
    }
   ],
   "source": [
    "game.PlayGame('Alessandro', 'ESBot')"
   ]
  },
  {
   "cell_type": "markdown",
   "metadata": {},
   "source": [
    "We also show what happens when a player plays suboptimally against the bot"
   ]
  },
  {
   "cell_type": "code",
   "execution_count": null,
   "metadata": {},
   "outputs": [
    {
     "name": "stdout",
     "output_type": "stream",
     "text": [
      "\n",
      "Player 1: Alessandro will play as X\n",
      "\n",
      "Player 2: ESBot will play as O\n",
      "\n",
      "Current Board:\n",
      "   |   |   \n",
      "---+---+---\n",
      "   |   |   \n",
      "---+---+---\n",
      "   |   |   \n",
      "\n",
      "Current Board:\n",
      "   | X |   \n",
      "---+---+---\n",
      "   |   |   \n",
      "---+---+---\n",
      "   |   |   \n",
      "\n",
      "Current Board:\n",
      " O | X |   \n",
      "---+---+---\n",
      "   |   |   \n",
      "---+---+---\n",
      "   |   |   \n",
      "\n",
      "Current Board:\n",
      " O | X |   \n",
      "---+---+---\n",
      "   | X |   \n",
      "---+---+---\n",
      "   |   |   \n",
      "\n",
      "Current Board:\n",
      " O | X |   \n",
      "---+---+---\n",
      "   | X |   \n",
      "---+---+---\n",
      "   | O |   \n",
      "\n",
      "Current Board:\n",
      " O | X |   \n",
      "---+---+---\n",
      "   | X |   \n",
      "---+---+---\n",
      " X | O |   \n",
      "\n",
      "Current Board:\n",
      " O | X | O \n",
      "---+---+---\n",
      "   | X |   \n",
      "---+---+---\n",
      " X | O |   \n",
      "\n",
      "Current Board:\n",
      " O | X | O \n",
      "---+---+---\n",
      "   | X | X \n",
      "---+---+---\n",
      " X | O |   \n",
      "\n",
      "Current Board:\n",
      " O | X | O \n",
      "---+---+---\n",
      " O | X | X \n",
      "---+---+---\n",
      " X | O |   \n"
     ]
    },
    {
     "ename": "KeyboardInterrupt",
     "evalue": "Interrupted by user",
     "output_type": "error",
     "traceback": [
      "\u001b[0;31m---------------------------------------------------------------------------\u001b[0m",
      "\u001b[0;31mKeyboardInterrupt\u001b[0m                         Traceback (most recent call last)",
      "Cell \u001b[0;32mIn[38], line 1\u001b[0m\n\u001b[0;32m----> 1\u001b[0m \u001b[43mgame\u001b[49m\u001b[38;5;241;43m.\u001b[39;49m\u001b[43mPlayGame\u001b[49m\u001b[43m(\u001b[49m\u001b[38;5;124;43m'\u001b[39;49m\u001b[38;5;124;43mAlessandro\u001b[39;49m\u001b[38;5;124;43m'\u001b[39;49m\u001b[43m,\u001b[49m\u001b[43m \u001b[49m\u001b[38;5;124;43m'\u001b[39;49m\u001b[38;5;124;43mESBot\u001b[39;49m\u001b[38;5;124;43m'\u001b[39;49m\u001b[43m)\u001b[49m\n",
      "File \u001b[0;32m~/AILAB/TicTacToe-Bot/tictactoe_class.py:134\u001b[0m, in \u001b[0;36mTicTacToe.PlayGame\u001b[0;34m(self, player0, player1)\u001b[0m\n\u001b[1;32m    131\u001b[0m     position \u001b[38;5;241m=\u001b[39m \u001b[38;5;28mself\u001b[39m\u001b[38;5;241m.\u001b[39mcurrent_player\u001b[38;5;241m.\u001b[39mnext_move(\u001b[38;5;28mself\u001b[39m\u001b[38;5;241m.\u001b[39mgrid, \u001b[38;5;28mself\u001b[39m\u001b[38;5;241m.\u001b[39mvalid_plays) \n\u001b[1;32m    133\u001b[0m \u001b[38;5;28;01melse\u001b[39;00m:\n\u001b[0;32m--> 134\u001b[0m     user_input \u001b[38;5;241m=\u001b[39m \u001b[38;5;28;43minput\u001b[39;49m\u001b[43m(\u001b[49m\u001b[38;5;124;43mf\u001b[39;49m\u001b[38;5;124;43m\"\u001b[39;49m\u001b[38;5;132;43;01m{\u001b[39;49;00m\u001b[38;5;28;43mself\u001b[39;49m\u001b[38;5;241;43m.\u001b[39;49m\u001b[43mcurrent_player\u001b[49m\u001b[38;5;132;43;01m}\u001b[39;49;00m\u001b[38;5;124;43m, enter row (0,\u001b[39;49m\u001b[38;5;132;43;01m{\u001b[39;49;00m\u001b[38;5;28;43mself\u001b[39;49m\u001b[38;5;241;43m.\u001b[39;49m\u001b[43msize\u001b[49m\u001b[38;5;241;43m-\u001b[39;49m\u001b[38;5;241;43m1\u001b[39;49m\u001b[38;5;132;43;01m}\u001b[39;49;00m\u001b[38;5;124;43m) and column (0,\u001b[39;49m\u001b[38;5;132;43;01m{\u001b[39;49;00m\u001b[38;5;28;43mself\u001b[39;49m\u001b[38;5;241;43m.\u001b[39;49m\u001b[43msize\u001b[49m\u001b[38;5;241;43m-\u001b[39;49m\u001b[38;5;241;43m1\u001b[39;49m\u001b[38;5;132;43;01m}\u001b[39;49;00m\u001b[38;5;124;43m) separated by space (press \u001b[39;49m\u001b[38;5;124;43m'\u001b[39;49m\u001b[38;5;124;43menter\u001b[39;49m\u001b[38;5;124;43m'\u001b[39;49m\u001b[38;5;124;43m to exit the game)\u001b[39;49m\u001b[38;5;124;43m\"\u001b[39;49m\u001b[43m)\u001b[49m\n\u001b[1;32m    136\u001b[0m     \u001b[38;5;28;01mif\u001b[39;00m user_input \u001b[38;5;129;01min\u001b[39;00m \u001b[38;5;124m\"\u001b[39m\u001b[38;5;124m\"\u001b[39m:\n\u001b[1;32m    137\u001b[0m         \u001b[38;5;28mprint\u001b[39m(\u001b[38;5;124m\"\u001b[39m\u001b[38;5;130;01m\\n\u001b[39;00m\u001b[38;5;124mGame stopped by user (quit command).\u001b[39m\u001b[38;5;124m\"\u001b[39m)\n",
      "File \u001b[0;32m~/anaconda3/envs/kmeans/lib/python3.10/site-packages/ipykernel/kernelbase.py:1282\u001b[0m, in \u001b[0;36mKernel.raw_input\u001b[0;34m(self, prompt)\u001b[0m\n\u001b[1;32m   1280\u001b[0m     msg \u001b[38;5;241m=\u001b[39m \u001b[38;5;124m\"\u001b[39m\u001b[38;5;124mraw_input was called, but this frontend does not support input requests.\u001b[39m\u001b[38;5;124m\"\u001b[39m\n\u001b[1;32m   1281\u001b[0m     \u001b[38;5;28;01mraise\u001b[39;00m StdinNotImplementedError(msg)\n\u001b[0;32m-> 1282\u001b[0m \u001b[38;5;28;01mreturn\u001b[39;00m \u001b[38;5;28;43mself\u001b[39;49m\u001b[38;5;241;43m.\u001b[39;49m\u001b[43m_input_request\u001b[49m\u001b[43m(\u001b[49m\n\u001b[1;32m   1283\u001b[0m \u001b[43m    \u001b[49m\u001b[38;5;28;43mstr\u001b[39;49m\u001b[43m(\u001b[49m\u001b[43mprompt\u001b[49m\u001b[43m)\u001b[49m\u001b[43m,\u001b[49m\n\u001b[1;32m   1284\u001b[0m \u001b[43m    \u001b[49m\u001b[38;5;28;43mself\u001b[39;49m\u001b[38;5;241;43m.\u001b[39;49m\u001b[43m_parent_ident\u001b[49m\u001b[43m[\u001b[49m\u001b[38;5;124;43m\"\u001b[39;49m\u001b[38;5;124;43mshell\u001b[39;49m\u001b[38;5;124;43m\"\u001b[39;49m\u001b[43m]\u001b[49m\u001b[43m,\u001b[49m\n\u001b[1;32m   1285\u001b[0m \u001b[43m    \u001b[49m\u001b[38;5;28;43mself\u001b[39;49m\u001b[38;5;241;43m.\u001b[39;49m\u001b[43mget_parent\u001b[49m\u001b[43m(\u001b[49m\u001b[38;5;124;43m\"\u001b[39;49m\u001b[38;5;124;43mshell\u001b[39;49m\u001b[38;5;124;43m\"\u001b[39;49m\u001b[43m)\u001b[49m\u001b[43m,\u001b[49m\n\u001b[1;32m   1286\u001b[0m \u001b[43m    \u001b[49m\u001b[43mpassword\u001b[49m\u001b[38;5;241;43m=\u001b[39;49m\u001b[38;5;28;43;01mFalse\u001b[39;49;00m\u001b[43m,\u001b[49m\n\u001b[1;32m   1287\u001b[0m \u001b[43m\u001b[49m\u001b[43m)\u001b[49m\n",
      "File \u001b[0;32m~/anaconda3/envs/kmeans/lib/python3.10/site-packages/ipykernel/kernelbase.py:1325\u001b[0m, in \u001b[0;36mKernel._input_request\u001b[0;34m(self, prompt, ident, parent, password)\u001b[0m\n\u001b[1;32m   1322\u001b[0m \u001b[38;5;28;01mexcept\u001b[39;00m \u001b[38;5;167;01mKeyboardInterrupt\u001b[39;00m:\n\u001b[1;32m   1323\u001b[0m     \u001b[38;5;66;03m# re-raise KeyboardInterrupt, to truncate traceback\u001b[39;00m\n\u001b[1;32m   1324\u001b[0m     msg \u001b[38;5;241m=\u001b[39m \u001b[38;5;124m\"\u001b[39m\u001b[38;5;124mInterrupted by user\u001b[39m\u001b[38;5;124m\"\u001b[39m\n\u001b[0;32m-> 1325\u001b[0m     \u001b[38;5;28;01mraise\u001b[39;00m \u001b[38;5;167;01mKeyboardInterrupt\u001b[39;00m(msg) \u001b[38;5;28;01mfrom\u001b[39;00m\u001b[38;5;250m \u001b[39m\u001b[38;5;28;01mNone\u001b[39;00m\n\u001b[1;32m   1326\u001b[0m \u001b[38;5;28;01mexcept\u001b[39;00m \u001b[38;5;167;01mException\u001b[39;00m:\n\u001b[1;32m   1327\u001b[0m     \u001b[38;5;28mself\u001b[39m\u001b[38;5;241m.\u001b[39mlog\u001b[38;5;241m.\u001b[39mwarning(\u001b[38;5;124m\"\u001b[39m\u001b[38;5;124mInvalid Message:\u001b[39m\u001b[38;5;124m\"\u001b[39m, exc_info\u001b[38;5;241m=\u001b[39m\u001b[38;5;28;01mTrue\u001b[39;00m)\n",
      "\u001b[0;31mKeyboardInterrupt\u001b[0m: Interrupted by user"
     ]
    }
   ],
   "source": [
    "game.PlayGame('ESBot', 'Alessandro')"
   ]
  },
  {
   "cell_type": "code",
   "execution_count": null,
   "metadata": {},
   "outputs": [],
   "source": []
  }
 ],
 "metadata": {
  "kernelspec": {
   "display_name": "designai",
   "language": "python",
   "name": "python3"
  },
  "language_info": {
   "codemirror_mode": {
    "name": "ipython",
    "version": 3
   },
   "file_extension": ".py",
   "mimetype": "text/x-python",
   "name": "python",
   "nbconvert_exporter": "python",
   "pygments_lexer": "ipython3",
   "version": "3.10.16"
  }
 },
 "nbformat": 4,
 "nbformat_minor": 2
}
