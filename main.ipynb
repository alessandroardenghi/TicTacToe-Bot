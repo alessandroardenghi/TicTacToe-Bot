{
 "cells": [
  {
   "cell_type": "code",
   "execution_count": 54,
   "metadata": {},
   "outputs": [],
   "source": [
    "import numpy as np\n",
    "\n",
    "class TicTacToe:\n",
    "    def __init__(self, grid_size):\n",
    "        self.size = grid_size\n",
    "        self.grid = np.zeros((grid_size, grid_size))\n",
    "        self.valid_plays = [(i, j) for i, row in enumerate(self.grid) \n",
    "                            for j, value in enumerate(row) if value == 0]\n",
    "    \n",
    "    def play(self, player, position):\n",
    "        \n",
    "        if player not in [-1,1]:\n",
    "            print('Player not allowed')\n",
    "            return\n",
    "        \n",
    "        if self.check_status() == 1:\n",
    "            print('The game is over')\n",
    "            return\n",
    "        \n",
    "        if position not in self.valid_plays:\n",
    "            print('Play not allowed! Try again')\n",
    "            return\n",
    "        \n",
    "        if np.sum(self.grid == -1) == np.sum(self.grid == 1) + 1 and player == 0:\n",
    "            print('Player 0 cannot play twice in a row')\n",
    "            return\n",
    "        \n",
    "        if np.sum(self.grid == 1) == np.sum(self.grid == -1) and player == 1:\n",
    "            print('Player 1 cannot play twice in a row')\n",
    "            return\n",
    "        \n",
    "        self.grid[position] = player\n",
    "        self.valid_plays.remove(position)\n",
    "        \n",
    "        if self.check_status():\n",
    "            print(f'Player {player} Won')\n",
    "            return \n",
    "        \n",
    "    def check_status(self):\n",
    "        \n",
    "        val = len(self.grid)\n",
    "        if val in np.sum(self.grid, axis = 0) or -val in np.sum(self.grid, axis = 0):\n",
    "            print(val)\n",
    "            print('VERTICAL WIN')\n",
    "            return 1\n",
    "        \n",
    "        if val in np.sum(self.grid, axis = 1) or -val in np.sum(self.grid, axis = 1):\n",
    "            print('HORIZONTAL WIN')\n",
    "            return 1\n",
    "        \n",
    "        if np.trace(self.grid) == val or np.trace(self.grid) == -val:\n",
    "            print('DIAGONAL WIN')\n",
    "            return 1\n",
    "        \n",
    "        if np.trace(np.fliplr(self.grid)) == val or np.trace(np.fliplr(self.grid)) == -val:\n",
    "            print('DIAGONAL WIN')\n",
    "            return 1\n",
    "\n",
    "        return 0\n",
    "    \n",
    "    def display_board(self):\n",
    "\n",
    "        for i, row in enumerate(self.grid):\n",
    "\n",
    "            row_display = \" | \".join('X' if cell == 1 else 'O' if cell == -1 else ' ' for cell in row)\n",
    "            \n",
    "            print(\" \" + row_display + \" \")\n",
    "\n",
    "            if i < len(self.grid) - 1:\n",
    "                print(\"---+\" * (self.size - 1) + \"---\")\n",
    "            \n",
    "            \n",
    "            "
   ]
  },
  {
   "cell_type": "code",
   "execution_count": 67,
   "metadata": {},
   "outputs": [],
   "source": [
    "a = TicTacToe(5)"
   ]
  },
  {
   "cell_type": "code",
   "execution_count": 68,
   "metadata": {},
   "outputs": [
    {
     "name": "stdout",
     "output_type": "stream",
     "text": [
      "[[0. 0. 0. 0. 0.]\n",
      " [0. 0. 0. 0. 0.]\n",
      " [0. 0. 0. 0. 0.]\n",
      " [0. 0. 0. 0. 0.]\n",
      " [0. 0. 0. 0. 0.]]\n"
     ]
    }
   ],
   "source": [
    "print(a.grid)"
   ]
  },
  {
   "cell_type": "code",
   "execution_count": 69,
   "metadata": {},
   "outputs": [],
   "source": [
    "a.play(-1, (0, 0))"
   ]
  },
  {
   "cell_type": "code",
   "execution_count": 70,
   "metadata": {},
   "outputs": [
    {
     "data": {
      "text/plain": [
       "array([[-1.,  0.,  0.,  0.,  0.],\n",
       "       [ 0.,  0.,  0.,  0.,  0.],\n",
       "       [ 0.,  0.,  0.,  0.,  0.],\n",
       "       [ 0.,  0.,  0.,  0.,  0.],\n",
       "       [ 0.,  0.,  0.,  0.,  0.]])"
      ]
     },
     "execution_count": 70,
     "metadata": {},
     "output_type": "execute_result"
    }
   ],
   "source": [
    "a.grid"
   ]
  },
  {
   "cell_type": "code",
   "execution_count": 71,
   "metadata": {},
   "outputs": [
    {
     "name": "stdout",
     "output_type": "stream",
     "text": [
      " O |   |   |   |   \n",
      "---+---+---+---+---\n",
      "   |   |   |   |   \n",
      "---+---+---+---+---\n",
      "   |   |   |   |   \n",
      "---+---+---+---+---\n",
      "   |   |   |   |   \n",
      "---+---+---+---+---\n",
      "   |   |   |   |   \n"
     ]
    }
   ],
   "source": [
    "a.display_board()"
   ]
  },
  {
   "cell_type": "code",
   "execution_count": 72,
   "metadata": {},
   "outputs": [],
   "source": [
    "a.play(1, (1,1))"
   ]
  },
  {
   "cell_type": "code",
   "execution_count": 73,
   "metadata": {},
   "outputs": [
    {
     "name": "stdout",
     "output_type": "stream",
     "text": [
      " O |   |   |   |   \n",
      "---+---+---+---+---\n",
      "   | X |   |   |   \n",
      "---+---+---+---+---\n",
      "   |   |   |   |   \n",
      "---+---+---+---+---\n",
      "   |   |   |   |   \n",
      "---+---+---+---+---\n",
      "   |   |   |   |   \n"
     ]
    }
   ],
   "source": [
    "a.display_board()"
   ]
  },
  {
   "cell_type": "code",
   "execution_count": 74,
   "metadata": {},
   "outputs": [],
   "source": [
    "a.play(-1, (0,2))"
   ]
  },
  {
   "cell_type": "code",
   "execution_count": 75,
   "metadata": {},
   "outputs": [],
   "source": [
    "a.play(1, (2,2))"
   ]
  },
  {
   "cell_type": "code",
   "execution_count": 76,
   "metadata": {},
   "outputs": [
    {
     "name": "stdout",
     "output_type": "stream",
     "text": [
      " O |   | O |   |   \n",
      "---+---+---+---+---\n",
      "   | X |   |   |   \n",
      "---+---+---+---+---\n",
      "   |   | X |   |   \n",
      "---+---+---+---+---\n",
      "   |   |   |   |   \n",
      "---+---+---+---+---\n",
      "   |   |   |   |   \n"
     ]
    }
   ],
   "source": [
    "a.display_board()"
   ]
  },
  {
   "cell_type": "code",
   "execution_count": 77,
   "metadata": {},
   "outputs": [],
   "source": [
    "a.play(-1, (0, 1))"
   ]
  },
  {
   "cell_type": "code",
   "execution_count": 78,
   "metadata": {},
   "outputs": [
    {
     "name": "stdout",
     "output_type": "stream",
     "text": [
      " O | O | O |   |   \n",
      "---+---+---+---+---\n",
      "   | X |   |   |   \n",
      "---+---+---+---+---\n",
      "   |   | X |   |   \n",
      "---+---+---+---+---\n",
      "   |   |   |   |   \n",
      "---+---+---+---+---\n",
      "   |   |   |   |   \n"
     ]
    }
   ],
   "source": [
    "a.display_board()"
   ]
  },
  {
   "cell_type": "code",
   "execution_count": null,
   "metadata": {},
   "outputs": [],
   "source": []
  }
 ],
 "metadata": {
  "kernelspec": {
   "display_name": "designai",
   "language": "python",
   "name": "python3"
  },
  "language_info": {
   "codemirror_mode": {
    "name": "ipython",
    "version": 3
   },
   "file_extension": ".py",
   "mimetype": "text/x-python",
   "name": "python",
   "nbconvert_exporter": "python",
   "pygments_lexer": "ipython3",
   "version": "3.10.16"
  }
 },
 "nbformat": 4,
 "nbformat_minor": 2
}
