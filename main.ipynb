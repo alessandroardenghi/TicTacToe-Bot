{
 "cells": [
  {
   "cell_type": "markdown",
   "metadata": {},
   "source": [
    "# TIC-TAC-TOE Bot"
   ]
  },
  {
   "cell_type": "markdown",
   "metadata": {},
   "source": [
    "In this project, we will develop a bot that plays Tic-Tac-Toe as best as possible. "
   ]
  },
  {
   "cell_type": "markdown",
   "metadata": {},
   "source": [
    "## Tic-Tac-Toe Class"
   ]
  },
  {
   "cell_type": "markdown",
   "metadata": {},
   "source": [
    "In this section, we show some of the characteristics of the Tic-Tac-Toe class present in the __ticatactoe\\_class.py__ file in this directory. The key observation is that to maximise efficiency, we represent each tic-tac-toe grid of size nxn as a tuple made of two $n^2$ bit numbers in binary (one for player 0 and one for player 1) so that it is easy to verify whether a configuration is winning and it is easy to update the grid after each play."
   ]
  },
  {
   "cell_type": "code",
   "execution_count": 2,
   "metadata": {},
   "outputs": [],
   "source": [
    "from tictactoe_class import TicTacToe\n",
    "from utils import *"
   ]
  },
  {
   "cell_type": "code",
   "execution_count": null,
   "metadata": {},
   "outputs": [
    {
     "name": "stdout",
     "output_type": "stream",
     "text": [
      "Grid Representation: [0, 0]\n",
      "   |   |   \n",
      "---+---+---\n",
      "   |   |   \n",
      "---+---+---\n",
      "   |   |   \n"
     ]
    }
   ],
   "source": [
    "game = TicTacToe(3)\n",
    "print(f'Grid Representation: {game.grid}')\n",
    "game._display_board()"
   ]
  },
  {
   "cell_type": "markdown",
   "metadata": {},
   "source": [
    "We can see that we store at the initialization the winning configurations. For instance the number 7 is 000000111 in binary, which corresponds to a grid that has the first row full."
   ]
  },
  {
   "cell_type": "code",
   "execution_count": 36,
   "metadata": {},
   "outputs": [
    {
     "name": "stdout",
     "output_type": "stream",
     "text": [
      "[7, 56, 448, 73, 146, 292, 273, 84]\n"
     ]
    }
   ],
   "source": [
    "print(game.winning_configurations)"
   ]
  },
  {
   "cell_type": "markdown",
   "metadata": {},
   "source": [
    "Our TicTacToe class also includes methods to set up a game between two players and visualize it in the terminal."
   ]
  },
  {
   "cell_type": "markdown",
   "metadata": {},
   "source": [
    "## Optimized Exhaustive Search BOT "
   ]
  },
  {
   "cell_type": "markdown",
   "metadata": {},
   "source": [
    "In our first approach, we try to develop a BOT that before playing conducts and exhaustive search. We know that there are 9! possible game sequences that can happen with 3x3 grids, and we also know that this number grows exponentially with the size of the board. Therefore, we also put in place some optimisations. <br> \n",
    "For instance, some game sequences intersect or share common states, so we cache the scores for each state to avoid computing them more than once. <br>\n",
    "The Bot's code is in __esbot\\_class.py__."
   ]
  },
  {
   "cell_type": "code",
   "execution_count": 33,
   "metadata": {},
   "outputs": [],
   "source": [
    "from esbot_class import ESBot\n",
    "grid_size = 3\n",
    "exhaustive_search_bot = ESBot(size = grid_size, winning_configurations=create_win_grids(grid_size))"
   ]
  },
  {
   "cell_type": "markdown",
   "metadata": {},
   "source": [
    "As soon as the bot is initialized, it computes the optimal strategy to play as player 0 and player 1."
   ]
  },
  {
   "cell_type": "code",
   "execution_count": 34,
   "metadata": {},
   "outputs": [
    {
     "data": {
      "text/plain": [
       "{(1, 0): (4, 0),\n",
       " (2, 0): (0, 0),\n",
       " (4, 0): (4, 0),\n",
       " (8, 0): (0, 0),\n",
       " (16, 0): (0, 0),\n",
       " (32, 0): (2, 0),\n",
       " (64, 0): (4, 0),\n",
       " (128, 0): (1, 0),\n",
       " (256, 0): (4, 0)}"
      ]
     },
     "execution_count": 34,
     "metadata": {},
     "output_type": "execute_result"
    }
   ],
   "source": [
    "exhaustive_search_bot.strategy[1]"
   ]
  },
  {
   "cell_type": "markdown",
   "metadata": {},
   "source": [
    "The strategy is a dictionary that has as keys the number of moves played in the game (so a number in [0, ${size}^2$ - 1]), and has as items dictionaries. <br>\n",
    "Each subdictionary has as keys the boards configurations in tuple form (for instance, the configuration (2, 0) means that player 0 has occupied the spot at row 0, column 1, whereas player 1 has not played yet) and as items a tuple containing as first item the next optimal move, and as second item the minimum score the player will get by playing that move. <br>\n",
    "For example, the entries of the strategy with key = 1 are listed above, and are all the possible states in which the board can be found after one move has been played. <br>\n",
    "Consider the entry (128, 0): (1, 0). This indicates that if the player has to play when the board is in state (128, 0) ( meaning that player0 has played a single move at row 2, column 1 and player 1 has not played yet), then the optimal play is to play move 1 (i.e. putting the mark in row 0, column 1) and the player can expect to at least draw the game if it plays optimally from there.\n"
   ]
  },
  {
   "cell_type": "code",
   "execution_count": 30,
   "metadata": {},
   "outputs": [
    {
     "data": {
      "text/plain": [
       "{(0, 0): (0, 0)}"
      ]
     },
     "execution_count": 30,
     "metadata": {},
     "output_type": "execute_result"
    }
   ],
   "source": [
    "exhaustive_search_bot.strategy[0]"
   ]
  },
  {
   "cell_type": "markdown",
   "metadata": {},
   "source": [
    "We see that the optimal play in a 3x3 TicTacToe grid is to start by putting a mark in the spot at row 0 column 0. We also notice that in that case the player can expect at least a draw if it plays optimally. We also saw from above that whatever the first move is, the second player can expect to at least draw the game if he plays optimally. <br>\n",
    "Therefore, we expect these bot to never lose a game. <br>\n",
    "In the next sections, we will benchmark it against a random player and against a player that performs MonteCarlo Tree Search."
   ]
  },
  {
   "cell_type": "markdown",
   "metadata": {},
   "source": [
    "### Game between Alessandro and the Bot"
   ]
  },
  {
   "cell_type": "code",
   "execution_count": 37,
   "metadata": {},
   "outputs": [
    {
     "name": "stdout",
     "output_type": "stream",
     "text": [
      "\n",
      "Player 1: Alessandro will play as X\n",
      "\n",
      "Player 2: ESBot will play as O\n",
      "\n",
      "Current Board:\n",
      "   |   |   \n",
      "---+---+---\n",
      "   |   |   \n",
      "---+---+---\n",
      "   |   |   \n",
      "\n",
      "Current Board:\n",
      " X |   |   \n",
      "---+---+---\n",
      "   |   |   \n",
      "---+---+---\n",
      "   |   |   \n",
      "\n",
      "Current Board:\n",
      " X |   |   \n",
      "---+---+---\n",
      "   | O |   \n",
      "---+---+---\n",
      "   |   |   \n",
      "\n",
      "Current Board:\n",
      " X |   | X \n",
      "---+---+---\n",
      "   | O |   \n",
      "---+---+---\n",
      "   |   |   \n",
      "\n",
      "Current Board:\n",
      " X | O | X \n",
      "---+---+---\n",
      "   | O |   \n",
      "---+---+---\n",
      "   |   |   \n",
      "\n",
      "Current Board:\n",
      " X | O | X \n",
      "---+---+---\n",
      "   | O |   \n",
      "---+---+---\n",
      "   | X |   \n",
      "\n",
      "Current Board:\n",
      " X | O | X \n",
      "---+---+---\n",
      " O | O |   \n",
      "---+---+---\n",
      "   | X |   \n",
      "\n",
      "Current Board:\n",
      " X | O | X \n",
      "---+---+---\n",
      " O | O | X \n",
      "---+---+---\n",
      "   | X |   \n",
      "\n",
      "Current Board:\n",
      " X | O | X \n",
      "---+---+---\n",
      " O | O | X \n",
      "---+---+---\n",
      "   | X | O \n",
      "\n",
      "Player 1: Alessandro will play as X\n",
      "Player 2: ESBot will play as O\n",
      "\n",
      "Final Board:\n",
      " X | O | X \n",
      "---+---+---\n",
      " O | O | X \n",
      "---+---+---\n",
      " X | X | O \n",
      "It's a draw! 🤝\n"
     ]
    }
   ],
   "source": [
    "game.PlayGame('Alessandro', 'ESBot')"
   ]
  },
  {
   "cell_type": "markdown",
   "metadata": {},
   "source": [
    "Given the deterministic nature of these bots, if we play one against the other, they will always play the same game and will always draw."
   ]
  },
  {
   "cell_type": "code",
   "execution_count": 41,
   "metadata": {},
   "outputs": [
    {
     "name": "stdout",
     "output_type": "stream",
     "text": [
      "\n",
      "Player 1: ESBot will play as X\n",
      "\n",
      "Player 2: ESBot will play as O\n",
      "\n",
      "Current Board:\n",
      "   |   |   \n",
      "---+---+---\n",
      "   |   |   \n",
      "---+---+---\n",
      "   |   |   \n",
      "\n",
      "Current Board:\n",
      " X |   |   \n",
      "---+---+---\n",
      "   |   |   \n",
      "---+---+---\n",
      "   |   |   \n",
      "\n",
      "Current Board:\n",
      " X |   |   \n",
      "---+---+---\n",
      "   | O |   \n",
      "---+---+---\n",
      "   |   |   \n",
      "\n",
      "Current Board:\n",
      " X | X |   \n",
      "---+---+---\n",
      "   | O |   \n",
      "---+---+---\n",
      "   |   |   \n",
      "\n",
      "Current Board:\n",
      " X | X | O \n",
      "---+---+---\n",
      "   | O |   \n",
      "---+---+---\n",
      "   |   |   \n",
      "\n",
      "Current Board:\n",
      " X | X | O \n",
      "---+---+---\n",
      "   | O |   \n",
      "---+---+---\n",
      " X |   |   \n",
      "\n",
      "Current Board:\n",
      " X | X | O \n",
      "---+---+---\n",
      " O | O |   \n",
      "---+---+---\n",
      " X |   |   \n",
      "\n",
      "Current Board:\n",
      " X | X | O \n",
      "---+---+---\n",
      " O | O | X \n",
      "---+---+---\n",
      " X |   |   \n",
      "\n",
      "Current Board:\n",
      " X | X | O \n",
      "---+---+---\n",
      " O | O | X \n",
      "---+---+---\n",
      " X | O |   \n",
      "\n",
      "Player 1: ESBot will play as X\n",
      "Player 2: ESBot will play as O\n",
      "\n",
      "Final Board:\n",
      " X | X | O \n",
      "---+---+---\n",
      " O | O | X \n",
      "---+---+---\n",
      " X | O | X \n",
      "It's a draw! 🤝\n"
     ]
    }
   ],
   "source": [
    "game.PlayGame('ESBot', 'ESBot')"
   ]
  },
  {
   "cell_type": "markdown",
   "metadata": {},
   "source": [
    "We can also extend this to 4x4 grids. Now it takes roughly 50 seconds to learn the optimal strategy through exhaustive search for the bots."
   ]
  },
  {
   "cell_type": "code",
   "execution_count": 42,
   "metadata": {},
   "outputs": [],
   "source": [
    "grid_size = 4\n",
    "exhaustive_search_bot = ESBot(size = grid_size, winning_configurations=create_win_grids(grid_size))"
   ]
  },
  {
   "cell_type": "code",
   "execution_count": 43,
   "metadata": {},
   "outputs": [
    {
     "data": {
      "text/plain": [
       "{(0, 0): (0, 0)}"
      ]
     },
     "execution_count": 43,
     "metadata": {},
     "output_type": "execute_result"
    }
   ],
   "source": [
    "exhaustive_search_bot.strategy[0]"
   ]
  },
  {
   "cell_type": "markdown",
   "metadata": {},
   "source": [
    "The optimal move in this case is once again to mark the top left corner as first move. If a player starts by playing this move and then plays optimally, it is guaranteed that it will at least draw the game."
   ]
  },
  {
   "cell_type": "code",
   "execution_count": 44,
   "metadata": {},
   "outputs": [
    {
     "data": {
      "text/plain": [
       "{(1, 0): (1, 0),\n",
       " (2, 0): (0, 0),\n",
       " (4, 0): (0, 0),\n",
       " (8, 0): (0, 0),\n",
       " (16, 0): (0, 0),\n",
       " (32, 0): (0, 0),\n",
       " (64, 0): (0, 0),\n",
       " (128, 0): (0, 0),\n",
       " (256, 0): (0, 0),\n",
       " (512, 0): (0, 0),\n",
       " (1024, 0): (0, 0),\n",
       " (2048, 0): (0, 0),\n",
       " (4096, 0): (0, 0),\n",
       " (8192, 0): (0, 0),\n",
       " (16384, 0): (0, 0),\n",
       " (32768, 0): (0, 0)}"
      ]
     },
     "execution_count": 44,
     "metadata": {},
     "output_type": "execute_result"
    }
   ],
   "source": [
    "exhaustive_search_bot.strategy[1]"
   ]
  },
  {
   "cell_type": "markdown",
   "metadata": {},
   "source": [
    "We also see that for the second player, the optimal move is to mark the top left corner if not yet occupied, otherwise to occupy the spot at row 0 column 1. <br>\n",
    "We notice also that if the second player plays optimally, then it is too guaranteed to at least draw the game."
   ]
  },
  {
   "cell_type": "code",
   "execution_count": 45,
   "metadata": {},
   "outputs": [
    {
     "name": "stdout",
     "output_type": "stream",
     "text": [
      "\n",
      "Player 1: ESBot will play as X\n",
      "\n",
      "Player 2: Alessandro will play as O\n",
      "\n",
      "Current Board:\n",
      "   |   |   |   \n",
      "---+---+---+---\n",
      "   |   |   |   \n",
      "---+---+---+---\n",
      "   |   |   |   \n",
      "---+---+---+---\n",
      "   |   |   |   \n",
      "\n",
      "Current Board:\n",
      " X |   |   |   \n",
      "---+---+---+---\n",
      "   |   |   |   \n",
      "---+---+---+---\n",
      "   |   |   |   \n",
      "---+---+---+---\n",
      "   |   |   |   \n",
      "\n",
      "Current Board:\n",
      " X |   |   |   \n",
      "---+---+---+---\n",
      "   | O |   |   \n",
      "---+---+---+---\n",
      "   |   |   |   \n",
      "---+---+---+---\n",
      "   |   |   |   \n",
      "\n",
      "Current Board:\n",
      " X | X |   |   \n",
      "---+---+---+---\n",
      "   | O |   |   \n",
      "---+---+---+---\n",
      "   |   |   |   \n",
      "---+---+---+---\n",
      "   |   |   |   \n",
      "\n",
      "Current Board:\n",
      " X | X |   | O \n",
      "---+---+---+---\n",
      "   | O |   |   \n",
      "---+---+---+---\n",
      "   |   |   |   \n",
      "---+---+---+---\n",
      "   |   |   |   \n",
      "\n",
      "Current Board:\n",
      " X | X | X | O \n",
      "---+---+---+---\n",
      "   | O |   |   \n",
      "---+---+---+---\n",
      "   |   |   |   \n",
      "---+---+---+---\n",
      "   |   |   |   \n",
      "\n",
      "Current Board:\n",
      " X | X | X | O \n",
      "---+---+---+---\n",
      "   | O | O |   \n",
      "---+---+---+---\n",
      "   |   |   |   \n",
      "---+---+---+---\n",
      "   |   |   |   \n",
      "\n",
      "Current Board:\n",
      " X | X | X | O \n",
      "---+---+---+---\n",
      " X | O | O |   \n",
      "---+---+---+---\n",
      "   |   |   |   \n",
      "---+---+---+---\n",
      "   |   |   |   \n",
      "\n",
      "Current Board:\n",
      " X | X | X | O \n",
      "---+---+---+---\n",
      " X | O | O |   \n",
      "---+---+---+---\n",
      "   |   |   |   \n",
      "---+---+---+---\n",
      " O |   |   |   \n",
      "\n",
      "Current Board:\n",
      " X | X | X | O \n",
      "---+---+---+---\n",
      " X | O | O |   \n",
      "---+---+---+---\n",
      "   | X |   |   \n",
      "---+---+---+---\n",
      " O |   |   |   \n",
      "\n",
      "Current Board:\n",
      " X | X | X | O \n",
      "---+---+---+---\n",
      " X | O | O |   \n",
      "---+---+---+---\n",
      "   | X |   |   \n",
      "---+---+---+---\n",
      " O |   |   | O \n",
      "\n",
      "Current Board:\n",
      " X | X | X | O \n",
      "---+---+---+---\n",
      " X | O | O | X \n",
      "---+---+---+---\n",
      "   | X |   |   \n",
      "---+---+---+---\n",
      " O |   |   | O \n",
      "\n",
      "Current Board:\n",
      " X | X | X | O \n",
      "---+---+---+---\n",
      " X | O | O | X \n",
      "---+---+---+---\n",
      "   | X |   |   \n",
      "---+---+---+---\n",
      " O |   | O | O \n",
      "\n",
      "Current Board:\n",
      " X | X | X | O \n",
      "---+---+---+---\n",
      " X | O | O | X \n",
      "---+---+---+---\n",
      "   | X |   |   \n",
      "---+---+---+---\n",
      " O | X | O | O \n",
      "\n",
      "Current Board:\n",
      " X | X | X | O \n",
      "---+---+---+---\n",
      " X | O | O | X \n",
      "---+---+---+---\n",
      "   | X |   | O \n",
      "---+---+---+---\n",
      " O | X | O | O \n",
      "\n",
      "Current Board:\n",
      " X | X | X | O \n",
      "---+---+---+---\n",
      " X | O | O | X \n",
      "---+---+---+---\n",
      " X | X |   | O \n",
      "---+---+---+---\n",
      " O | X | O | O \n",
      "\n",
      "Player 1: ESBot will play as X\n",
      "Player 2: Alessandro will play as O\n",
      "\n",
      "Final Board:\n",
      " X | X | X | O \n",
      "---+---+---+---\n",
      " X | O | O | X \n",
      "---+---+---+---\n",
      " X | X | O | O \n",
      "---+---+---+---\n",
      " O | X | O | O \n",
      "It's a draw! 🤝\n"
     ]
    }
   ],
   "source": [
    "game = TicTacToe(4)\n",
    "game.PlayGame('ESBot', 'Alessandro')"
   ]
  },
  {
   "cell_type": "markdown",
   "metadata": {},
   "source": [
    "When we try to scale this to a grid of size 5x5, we see that the number of computations necessary grows too much, and we are not able to obtain a bot that plays optimally doing exhaustive search."
   ]
  },
  {
   "cell_type": "markdown",
   "metadata": {},
   "source": [
    "# Monte Carlo Tree Search Bot"
   ]
  },
  {
   "cell_type": "markdown",
   "metadata": {},
   "source": [
    "In this section, we implement and test a Bot that plays by performing Monte Carlo Tree Search."
   ]
  },
  {
   "cell_type": "code",
   "execution_count": 1,
   "metadata": {},
   "outputs": [],
   "source": [
    "from MCSTBot_class import MCTSBot\n",
    "from utils import *\n",
    "from tictactoe_class import TicTacToe\n",
    "\n",
    "grid_size = 3\n",
    "bot = MCTSBot(grid_size, \n",
    "              create_win_grids(grid_size), \n",
    "              player = 0,               # If player = 0, Bot plays first, else second\n",
    "              n_iterations = 50000,\n",
    "              verbose=1)      # Number of simulations before making each move\n"
   ]
  },
  {
   "cell_type": "markdown",
   "metadata": {},
   "source": [
    "When the **next_move** method  of MCTSBot is called, the bot builds a strategy to play the current turn. <br>\n",
    "The bot will perform n_iteration simulations and will balance exploration and exploitation thanks to the UCB1 method. <br>\n",
    "When all the iterations have been carried out, the bot picks the move with highest average score and plays it."
   ]
  },
  {
   "cell_type": "markdown",
   "metadata": {},
   "source": [
    "We show an example of how the model works."
   ]
  },
  {
   "cell_type": "code",
   "execution_count": 2,
   "metadata": {},
   "outputs": [
    {
     "name": "stdout",
     "output_type": "stream",
     "text": [
      " O |   | O \n",
      "---+---+---\n",
      " O | X | X \n",
      "---+---+---\n",
      " X |   |   \n"
     ]
    }
   ],
   "source": [
    "# Example grid\n",
    "current_grid = (112, 13)\n",
    "valid_moves = [1, 7, 8]\n",
    "display_board(current_grid, size=3)"
   ]
  },
  {
   "cell_type": "code",
   "execution_count": 3,
   "metadata": {},
   "outputs": [
    {
     "name": "stdout",
     "output_type": "stream",
     "text": [
      "Results of Strategy:\n",
      "\n",
      "Move: 1:\n",
      "\n",
      "\tUCB Score: 0.041673997120757596\n",
      "\tAverage Value: 0.0\n",
      "\t# of Times Visited: 49840\n",
      "Move: 7:\n",
      "\n",
      "\tUCB Score: 0.04018163242821604\n",
      "\tAverage Value: -1.0\n",
      "\t# of Times Visited: 80\n",
      "Move: 8:\n",
      "\n",
      "\tUCB Score: 0.04018163242821604\n",
      "\tAverage Value: -1.0\n",
      "\t# of Times Visited: 80\n",
      "SUGGESTED NEXT MOVE: 1\n"
     ]
    }
   ],
   "source": [
    "next = bot.next_move(current_grid, valid_moves)\n",
    "print(f'SUGGESTED NEXT MOVE: {next}')"
   ]
  },
  {
   "cell_type": "markdown",
   "metadata": {},
   "source": [
    "As we can see, the bot estimates a score of -1 for both the moves that do not block position (0, 1), because if not blocked a rational adversary will win the game at the next turn."
   ]
  },
  {
   "cell_type": "code",
   "execution_count": null,
   "metadata": {},
   "outputs": [],
   "source": [
    "# Example grid\n",
    "current_grid = (112, 11)\n",
    "valid_moves = [2, 7, 8]\n",
    "display_board(current_grid, size=3)"
   ]
  }
 ],
 "metadata": {
  "kernelspec": {
   "display_name": "kmeans",
   "language": "python",
   "name": "python3"
  },
  "language_info": {
   "codemirror_mode": {
    "name": "ipython",
    "version": 3
   },
   "file_extension": ".py",
   "mimetype": "text/x-python",
   "name": "python",
   "nbconvert_exporter": "python",
   "pygments_lexer": "ipython3",
   "version": "3.10.16"
  }
 },
 "nbformat": 4,
 "nbformat_minor": 2
}
