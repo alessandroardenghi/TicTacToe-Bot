{
 "cells": [
  {
   "cell_type": "code",
   "execution_count": null,
   "metadata": {},
   "outputs": [],
   "source": []
  },
  {
   "cell_type": "code",
   "execution_count": 1,
   "metadata": {},
   "outputs": [
    {
     "data": {
      "text/plain": [
       "[1, 1, 1, None, None, 1]"
      ]
     },
     "execution_count": 1,
     "metadata": {},
     "output_type": "execute_result"
    }
   ],
   "source": [
    "[1 if child != None else None for child in [0 , 1 , 5, None, None, 7]]\n"
   ]
  },
  {
   "cell_type": "code",
   "execution_count": 1,
   "metadata": {},
   "outputs": [],
   "source": [
    "from tictactoe_class import TicTacToe\n",
    "from MCSTBot_class import MCTSBot\n",
    "from esbot_class import ESBot\n",
    "import config"
   ]
  },
  {
   "cell_type": "code",
   "execution_count": 8,
   "metadata": {},
   "outputs": [
    {
     "data": {
      "text/plain": [
       "1"
      ]
     },
     "execution_count": 8,
     "metadata": {},
     "output_type": "execute_result"
    }
   ],
   "source": [
    "game = TicTacToe(3)\n",
    "player0 = MCTSBot(3, game.winning_configurations, 0, config.N_ITERATIONS)\n",
    "player1 = ESBot(3, game.winning_configurations)\n",
    "game.automatic_games(player1, player0)"
   ]
  },
  {
   "cell_type": "code",
   "execution_count": 11,
   "metadata": {},
   "outputs": [
    {
     "data": {
      "text/plain": [
       "1"
      ]
     },
     "execution_count": 11,
     "metadata": {},
     "output_type": "execute_result"
    }
   ],
   "source": [
    "game.automatic_games(player1, player0)"
   ]
  },
  {
   "cell_type": "code",
   "execution_count": null,
   "metadata": {},
   "outputs": [],
   "source": [
    "size = 3\n",
    "num_games = 100\n",
    "Bot_mcst = MCTSBot(3, game.winning_configurations, 0)\n",
    "Bot_es= ESBot(3, game.winning_configurations)\n",
    "game = TicTacToe(size)\n",
    "\n",
    "results = {0 : 0, 1 : 0, 2 : 0}\n",
    "\n",
    "for _ in range(num_games):\n",
    "\n",
    "    output = game.automatic_games(Bot_mcst, Bot_es)\n",
    "    results[output] += 1\n",
    "\n",
    "print(f'Percentage of wins for MCTSBot: {results[1]/num_games}')\n",
    "print(f'Percentage of wins for ESBot: {results[2]/num_games}')\n",
    "print(f'Percentage of draws: {results[0]/num_games}')"
   ]
  },
  {
   "cell_type": "code",
   "execution_count": 2,
   "metadata": {},
   "outputs": [],
   "source": [
    "from tqdm import tqdm\n",
    "\n",
    "def multiple_games(game, num_games, bot1, bot2):\n",
    "\n",
    "    player0 = bot1\n",
    "    player1 = bot2\n",
    "    \n",
    "    results = {0: 0, 1: 0, 2: 0}\n",
    "\n",
    "    for _ in tqdm(range(num_games), desc=\"Playing Games\", unit=\"game\"):\n",
    "        output = game.automatic_games(player0, player1)\n",
    "        results[output] += 1\n",
    "\n",
    "    print(f'\\nBot {player0} is playing as first player, Bot {player1} is playing as second player')\n",
    "    print(f'Percentage of wins for {player0}: {results[1]/num_games:.2%}')\n",
    "    print(f'Percentage of wins for {player1}: {results[2]/num_games:.2%}')\n",
    "    print(f'Percentage of draws: {results[0]/num_games:.2%}')\n",
    "\n",
    "    return {player0.name: results[1]/num_games, player1.name: results[2]/num_games, 'draws': results[0]/num_games}\n",
    "\n"
   ]
  },
  {
   "cell_type": "code",
   "execution_count": 4,
   "metadata": {},
   "outputs": [],
   "source": [
    "game = TicTacToe(3)\n",
    "\n",
    "bot_test = MCTSBot(3, game.winning_configurations, 0, n_iterations=config.N_ITERATIONS)\n",
    "bot_benchmark = ESBot(3, game.winning_configurations)\n"
   ]
  },
  {
   "cell_type": "code",
   "execution_count": 6,
   "metadata": {},
   "outputs": [
    {
     "name": "stderr",
     "output_type": "stream",
     "text": [
      "Playing Games: 100%|██████████| 1/1 [00:10<00:00, 10.45s/game]"
     ]
    },
    {
     "name": "stdout",
     "output_type": "stream",
     "text": [
      "\n",
      "Bot MCTSBot is playing as first player, Bot ESBot is playing as second player\n",
      "Percentage of wins for MCTSBot: 0.00%\n",
      "Percentage of wins for ESBot: 0.00%\n",
      "Percentage of draws: 100.00%\n"
     ]
    },
    {
     "name": "stderr",
     "output_type": "stream",
     "text": [
      "\n"
     ]
    },
    {
     "data": {
      "text/plain": [
       "{'MCTSBot': 0.0, 'ESBot': 0.0, 'draws': 1.0}"
      ]
     },
     "execution_count": 6,
     "metadata": {},
     "output_type": "execute_result"
    }
   ],
   "source": [
    "multiple_games(game, 1, bot_test, bot_benchmark)\n"
   ]
  },
  {
   "cell_type": "code",
   "execution_count": 10,
   "metadata": {},
   "outputs": [
    {
     "name": "stdout",
     "output_type": "stream",
     "text": [
      "Ouput for the bot MCTSBot playing as first player and the bot ESBot playing as second player\n"
     ]
    },
    {
     "name": "stderr",
     "output_type": "stream",
     "text": [
      "Playing Games: 100%|██████████| 10/10 [03:56<00:00, 23.62s/game]\n"
     ]
    },
    {
     "name": "stdout",
     "output_type": "stream",
     "text": [
      "\n",
      "Bot MCTSBot is playing as first player, Bot ESBot is playing as second player\n",
      "Percentage of wins for MCTSBot: 0.00%\n",
      "Percentage of wins for ESBot: 50.00%\n",
      "Percentage of draws: 50.00%\n",
      "\n",
      "Ouput for the bot MCTSBot playing as second player and the bot ESBot playing as first player\n"
     ]
    },
    {
     "name": "stderr",
     "output_type": "stream",
     "text": [
      "Playing Games: 100%|██████████| 10/10 [01:49<00:00, 10.92s/game]\n"
     ]
    },
    {
     "name": "stdout",
     "output_type": "stream",
     "text": [
      "\n",
      "Bot ESBot is playing as first player, Bot MCTSBot is playing as second player\n",
      "Percentage of wins for ESBot: 0.00%\n",
      "Percentage of wins for MCTSBot: 0.00%\n",
      "Percentage of draws: 100.00%\n"
     ]
    },
    {
     "data": {
      "text/plain": [
       "{'MCTSBot': 0.0, 'ESBot': 5.0, 'draws': 15.0}"
      ]
     },
     "execution_count": 10,
     "metadata": {},
     "output_type": "execute_result"
    }
   ],
   "source": [
    "def evaluate_bot(game_size, num_games):\n",
    "\n",
    "    game = TicTacToe(game_size)\n",
    "\n",
    "    bot_test_first = MCTSBot(game_size, game.winning_configurations, 0, n_iterations=config.N_ITERATIONS)\n",
    "    bot_test_second = MCTSBot(game_size, game.winning_configurations, 1, n_iterations=config.N_ITERATIONS)\n",
    "    bot_benchmark = ESBot(game_size, game.winning_configurations)\n",
    "\n",
    "    print(f'Ouput for the bot {bot_test_first} playing as first player and the bot {bot_benchmark} playing as second player')\n",
    "    result1 = multiple_games(game, num_games, bot_test_first, bot_benchmark)\n",
    "\n",
    "    print(f'\\nOuput for the bot {bot_test_second} playing as second player and the bot {bot_benchmark} playing as first player')\n",
    "    result2 = multiple_games(game, num_games, bot_benchmark, bot_test_second)\n",
    "\n",
    "    full_results = {key : (result1[key]*num_games)+(result2[key]*num_games) for key in result1.keys()}\n",
    "\n",
    "    return full_results\n",
    "\n",
    "\n",
    "results = evaluate_bot(4, 10)\n",
    "results"
   ]
  },
  {
   "cell_type": "code",
   "execution_count": null,
   "metadata": {},
   "outputs": [],
   "source": []
  }
 ],
 "metadata": {
  "kernelspec": {
   "display_name": "designai",
   "language": "python",
   "name": "python3"
  },
  "language_info": {
   "codemirror_mode": {
    "name": "ipython",
    "version": 3
   },
   "file_extension": ".py",
   "mimetype": "text/x-python",
   "name": "python",
   "nbconvert_exporter": "python",
   "pygments_lexer": "ipython3",
   "version": "3.10.16"
  }
 },
 "nbformat": 4,
 "nbformat_minor": 2
}
